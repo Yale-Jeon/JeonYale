version https://git-lfs.github.com/spec/v1
oid sha256:bd61e26f7652177192ae4ce98da58beafe4091c578c973a39c0796b9957303ea
size 6754934
