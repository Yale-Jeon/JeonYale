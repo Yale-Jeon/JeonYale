version https://git-lfs.github.com/spec/v1
oid sha256:9433c8724a8448f4d19ae11cdc5e08d33610d275e117751d4e91f8c5caed9978
size 638018
